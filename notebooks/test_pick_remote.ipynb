{
 "cells": [
  {
   "cell_type": "code",
   "execution_count": 1,
   "id": "36967809",
   "metadata": {},
   "outputs": [
    {
     "name": "stdout",
     "output_type": "stream",
     "text": [
      "env: ROS_IP=127.0.0.1\n",
      "env: ROS_MASTER_URI=http://127.0.0.1:11311\n",
      "127.0.0.1\n",
      "http://127.0.0.1:11311\n"
     ]
    }
   ],
   "source": [
    "%env ROS_IP=127.0.0.1\n",
    "%env ROS_MASTER_URI=http://127.0.0.1:11311\n",
    "\n",
    "!export ROS_MASTER_URI=http://127.0.0.1:11311\n",
    "!export ROS_IP=127.0.0.1\n",
    "\n",
    "!echo $ROS_IP\n",
    "!echo $ROS_MASTER_URI\n"
   ]
  },
  {
   "cell_type": "code",
   "execution_count": 2,
   "id": "f10439cf",
   "metadata": {},
   "outputs": [],
   "source": [
    "from visioncraft.locobot.camera import LocobotCamera\n",
    "from visioncraft.locobot.arm_control import LocobotArmControl\n",
    "from geometry_msgs.msg import Pose\n",
    "from tf.transformations import quaternion_from_euler\n",
    "import numpy as np\n",
    "import matplotlib.pyplot as plt\n"
   ]
  },
  {
   "cell_type": "code",
   "execution_count": 3,
   "id": "faf662d4",
   "metadata": {},
   "outputs": [],
   "source": [
    "cam = LocobotCamera(use_simulation=True)\n"
   ]
  },
  {
   "cell_type": "code",
   "execution_count": 4,
   "id": "778124ef",
   "metadata": {},
   "outputs": [
    {
     "name": "stdout",
     "output_type": "stream",
     "text": [
      "[INFO] [1745978919.032487, 692.441000]: Waiting for joint trajectory action on /locobot/arm_controller/follow_joint_trajectory…\n",
      "[INFO] [1745978919.073435, 692.471000]: Joint‐space action server ready\n",
      "\u001b[0m[INFO] [1745978919.135083308]: Loading robot model 'locobot'...\u001b[0m\n",
      "\u001b[0m[INFO] [1745978919.135121409]: No root/virtual joint specified in SRDF. Assuming fixed joint\u001b[0m\n",
      "\u001b[0m[INFO] [1745978920.340604673, 693.650000000]: Ready to take commands for planning group interbotix_arm.\u001b[0m\n",
      "[INFO] [1745978920.358410, 693.653000]: LocobotArmControl initialized\n"
     ]
    },
    {
     "name": "stderr",
     "output_type": "stream",
     "text": [
      "\u001b[33m[WARN] [1745978919.133175955]: Link 'locobot/caster_back_link' is not known to URDF. Cannot disable/enable collisons.\u001b[0m\n",
      "\u001b[33m[WARN] [1745978919.134546520]: Link 'locobot/caster_front_link' is not known to URDF. Cannot disable/enable collisons.\u001b[0m\n",
      "\u001b[33m[WARN] [1745978919.134590498]: Link 'locobot/wheel_left_link' is not known to URDF. Cannot disable/enable collisons.\u001b[0m\n",
      "\u001b[33m[WARN] [1745978919.134601734]: Link 'locobot/wheel_right_link' is not known to URDF. Cannot disable/enable collisons.\u001b[0m\n",
      "\u001b[33m[WARN] [1745978919.134618450]: Link 'locobot/caster_back_link' is not known to URDF. Cannot disable/enable collisons.\u001b[0m\n",
      "\u001b[33m[WARN] [1745978919.134627017]: Link 'locobot/caster_front_link' is not known to URDF. Cannot disable/enable collisons.\u001b[0m\n",
      "\u001b[33m[WARN] [1745978919.134641591]: Link 'locobot/wheel_left_link' is not known to URDF. Cannot disable/enable collisons.\u001b[0m\n",
      "\u001b[33m[WARN] [1745978919.134649847]: Link 'locobot/wheel_right_link' is not known to URDF. Cannot disable/enable collisons.\u001b[0m\n",
      "\u001b[33m[WARN] [1745978919.134662407]: Link 'locobot/caster_back_link' is not known to URDF. Cannot disable/enable collisons.\u001b[0m\n",
      "\u001b[33m[WARN] [1745978919.134671591]: Link 'locobot/caster_front_link' is not known to URDF. Cannot disable/enable collisons.\u001b[0m\n",
      "\u001b[33m[WARN] [1745978919.134685694]: Link 'locobot/wheel_left_link' is not known to URDF. Cannot disable/enable collisons.\u001b[0m\n",
      "\u001b[33m[WARN] [1745978919.134693728]: Link 'locobot/wheel_right_link' is not known to URDF. Cannot disable/enable collisons.\u001b[0m\n",
      "\u001b[33m[WARN] [1745978919.134701967]: Link 'locobot/caster_back_link' is not known to URDF. Cannot disable/enable collisons.\u001b[0m\n",
      "\u001b[33m[WARN] [1745978919.134710829]: Link 'locobot/caster_front_link' is not known to URDF. Cannot disable/enable collisons.\u001b[0m\n",
      "\u001b[33m[WARN] [1745978919.134724425]: Link 'locobot/wheel_left_link' is not known to URDF. Cannot disable/enable collisons.\u001b[0m\n",
      "\u001b[33m[WARN] [1745978919.134732945]: Link 'locobot/wheel_right_link' is not known to URDF. Cannot disable/enable collisons.\u001b[0m\n",
      "\u001b[33m[WARN] [1745978919.134740747]: Link 'locobot/caster_back_link' is not known to URDF. Cannot disable/enable collisons.\u001b[0m\n",
      "\u001b[33m[WARN] [1745978919.134749128]: Link 'locobot/caster_front_link' is not known to URDF. Cannot disable/enable collisons.\u001b[0m\n",
      "\u001b[33m[WARN] [1745978919.134761731]: Link 'locobot/wheel_left_link' is not known to URDF. Cannot disable/enable collisons.\u001b[0m\n",
      "\u001b[33m[WARN] [1745978919.134770075]: Link 'locobot/wheel_right_link' is not known to URDF. Cannot disable/enable collisons.\u001b[0m\n",
      "\u001b[33m[WARN] [1745978919.134777888]: Link 'locobot/caster_back_link' is not known to URDF. Cannot disable/enable collisons.\u001b[0m\n",
      "\u001b[33m[WARN] [1745978919.134786283]: Link 'locobot/caster_back_link' is not known to URDF. Cannot disable/enable collisons.\u001b[0m\n",
      "\u001b[33m[WARN] [1745978919.134794218]: Link 'locobot/caster_back_link' is not known to URDF. Cannot disable/enable collisons.\u001b[0m\n",
      "\u001b[33m[WARN] [1745978919.134801964]: Link 'locobot/caster_back_link' is not known to URDF. Cannot disable/enable collisons.\u001b[0m\n",
      "\u001b[33m[WARN] [1745978919.134809933]: Link 'locobot/caster_back_link' is not known to URDF. Cannot disable/enable collisons.\u001b[0m\n",
      "\u001b[33m[WARN] [1745978919.134817811]: Link 'locobot/caster_back_link' is not known to URDF. Cannot disable/enable collisons.\u001b[0m\n",
      "\u001b[33m[WARN] [1745978919.134825698]: Link 'locobot/caster_back_link' is not known to URDF. Cannot disable/enable collisons.\u001b[0m\n",
      "\u001b[33m[WARN] [1745978919.134834042]: Link 'locobot/caster_back_link' is not known to URDF. Cannot disable/enable collisons.\u001b[0m\n",
      "\u001b[33m[WARN] [1745978919.134842085]: Link 'locobot/caster_front_link' is not known to URDF. Cannot disable/enable collisons.\u001b[0m\n",
      "\u001b[33m[WARN] [1745978919.134850559]: Link 'locobot/caster_front_link' is not known to URDF. Cannot disable/enable collisons.\u001b[0m\n",
      "\u001b[33m[WARN] [1745978919.134858431]: Link 'locobot/caster_front_link' is not known to URDF. Cannot disable/enable collisons.\u001b[0m\n",
      "\u001b[33m[WARN] [1745978919.134866379]: Link 'locobot/caster_front_link' is not known to URDF. Cannot disable/enable collisons.\u001b[0m\n",
      "\u001b[33m[WARN] [1745978919.134874203]: Link 'locobot/caster_front_link' is not known to URDF. Cannot disable/enable collisons.\u001b[0m\n",
      "\u001b[33m[WARN] [1745978919.134881984]: Link 'locobot/caster_front_link' is not known to URDF. Cannot disable/enable collisons.\u001b[0m\n",
      "\u001b[33m[WARN] [1745978919.134891724]: Link 'locobot/caster_front_link' is not known to URDF. Cannot disable/enable collisons.\u001b[0m\n",
      "\u001b[33m[WARN] [1745978919.134899782]: Link 'locobot/caster_front_link' is not known to URDF. Cannot disable/enable collisons.\u001b[0m\n",
      "\u001b[33m[WARN] [1745978919.134939836]: Link 'locobot/wheel_left_link' is not known to URDF. Cannot disable/enable collisons.\u001b[0m\n",
      "\u001b[33m[WARN] [1745978919.134948473]: Link 'locobot/wheel_right_link' is not known to URDF. Cannot disable/enable collisons.\u001b[0m\n",
      "\u001b[33m[WARN] [1745978919.134959797]: Link 'locobot/wheel_left_link' is not known to URDF. Cannot disable/enable collisons.\u001b[0m\n",
      "\u001b[33m[WARN] [1745978919.134966608]: Link 'locobot/wheel_right_link' is not known to URDF. Cannot disable/enable collisons.\u001b[0m\n",
      "\u001b[33m[WARN] [1745978919.134977848]: Link 'locobot/wheel_left_link' is not known to URDF. Cannot disable/enable collisons.\u001b[0m\n",
      "\u001b[33m[WARN] [1745978919.134984497]: Link 'locobot/wheel_right_link' is not known to URDF. Cannot disable/enable collisons.\u001b[0m\n",
      "\u001b[33m[WARN] [1745978919.134991314]: Link 'locobot/wheel_left_link' is not known to URDF. Cannot disable/enable collisons.\u001b[0m\n",
      "\u001b[33m[WARN] [1745978919.134998877]: Link 'locobot/wheel_right_link' is not known to URDF. Cannot disable/enable collisons.\u001b[0m\n",
      "\u001b[33m[WARN] [1745978919.135006953]: Link 'locobot/wheel_left_link' is not known to URDF. Cannot disable/enable collisons.\u001b[0m\n",
      "\u001b[33m[WARN] [1745978919.135013566]: Link 'locobot/wheel_right_link' is not known to URDF. Cannot disable/enable collisons.\u001b[0m\n",
      "\u001b[33m[WARN] [1745978919.135021892]: Link 'locobot/wheel_left_link' is not known to URDF. Cannot disable/enable collisons.\u001b[0m\n"
     ]
    }
   ],
   "source": [
    "arm_control = LocobotArmControl(use_simulation=True)\n"
   ]
  },
  {
   "cell_type": "code",
   "execution_count": 5,
   "id": "893e4711",
   "metadata": {},
   "outputs": [],
   "source": [
    "arm_control.open_gripper()"
   ]
  },
  {
   "cell_type": "code",
   "execution_count": 6,
   "id": "d3a9b3d8",
   "metadata": {},
   "outputs": [],
   "source": [
    "arm_control.close_gripper()"
   ]
  },
  {
   "cell_type": "code",
   "execution_count": 7,
   "id": "5559d1ad",
   "metadata": {},
   "outputs": [],
   "source": [
    "arm_control.move_arm_joints(LocobotArmControl.JOINT_SLEEP)"
   ]
  },
  {
   "cell_type": "code",
   "execution_count": 8,
   "id": "cc345196",
   "metadata": {},
   "outputs": [
    {
     "data": {
      "text/plain": [
       "<matplotlib.collections.PathCollection at 0x724ca4343040>"
      ]
     },
     "execution_count": 8,
     "metadata": {},
     "output_type": "execute_result"
    },
    {
     "data": {
      "image/png": "[encoded data removed]",
      "text/plain": [
       "<Figure size 640x480 with 1 Axes>"
      ]
     },
     "metadata": {},
     "output_type": "display_data"
    }
   ],
   "source": [
    "# Example: Grab cube at center of image\n",
    "cam.pan(0.0)\n",
    "cam.tilt(1.1)\n",
    "height, width = cam.image.shape[:2]\n",
    "center_x = 200\n",
    "center_y = 200\n",
    "\n",
    "plt.imshow(cam.image)\n",
    "# add point on top of the image\n",
    "plt.scatter(center_x, center_y, color='red')"
   ]
  },
  {
   "cell_type": "code",
   "execution_count": 9,
   "id": "2576d222",
   "metadata": {},
   "outputs": [
    {
     "data": {
      "text/plain": [
       "<matplotlib.collections.PathCollection at 0x724ca571b190>"
      ]
     },
     "execution_count": 9,
     "metadata": {},
     "output_type": "execute_result"
    },
    {
     "data": {
      "image/png": "[encoded data removed]",
      "text/plain": [
       "<Figure size 640x480 with 1 Axes>"
      ]
     },
     "metadata": {},
     "output_type": "display_data"
    }
   ],
   "source": [
    "plt.imshow(cam.depth_image)\n",
    "# add point on top of the image\n",
    "plt.scatter(center_x, center_y, color='red')"
   ]
  },
  {
   "cell_type": "code",
   "execution_count": 10,
   "id": "4c806dce",
   "metadata": {},
   "outputs": [
    {
     "name": "stdout",
     "output_type": "stream",
     "text": [
      "[-0.12166341 -0.0402151   0.60003698]\n",
      "[0.3699123182830812, 0.13914695249995207, 0.017828425155516636]\n"
     ]
    }
   ],
   "source": [
    "point_cam = cam.get_point_at_pixel(center_x, center_y)\n",
    "print(point_cam)\n",
    "\n",
    "\n",
    "point_base = cam.get_target_coordinate_from_camera(point_cam)\n",
    "print(point_base)"
   ]
  },
  {
   "cell_type": "code",
   "execution_count": 11,
   "id": "6fc7e416",
   "metadata": {},
   "outputs": [
    {
     "name": "stdout",
     "output_type": "stream",
     "text": [
      "Point in base frame: [0.3699123182830812, 0.13914695249995207, 0.017828425155516636]\n"
     ]
    }
   ],
   "source": [
    "print(f\"Point in base frame: {point_base}\")\n",
    "\n",
    "arm_control.pick(point_base, size=0.03)"
   ]
  },
  {
   "cell_type": "code",
   "execution_count": 12,
   "id": "9175aeb8",
   "metadata": {},
   "outputs": [],
   "source": [
    "point_base_2 = point_base + np.array([0.1, 0.1, 0.03])\n",
    "arm_control.place(point_base_2, size=0.03)\n",
    "arm_control.open_gripper()"
   ]
  }
 ],
 "metadata": {
  "kernelspec": {
   "display_name": "Python 3",
   "language": "python",
   "name": "python3"
  },
  "language_info": {
   "codemirror_mode": {
    "name": "ipython",
    "version": 3
   },
   "file_extension": ".py",
   "mimetype": "text/x-python",
   "name": "python",
   "nbconvert_exporter": "python",
   "pygments_lexer": "ipython3",
   "version": "3.8.10"
  }
 },
 "nbformat": 4,
 "nbformat_minor": 5
}
