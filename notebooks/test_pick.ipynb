{
 "cells": [
  {
   "cell_type": "code",
   "execution_count": 16,
   "id": "f10439cf",
   "metadata": {},
   "outputs": [],
   "source": [
    "from visioncraft.locobot.camera import LocobotCamera\n",
    "from visioncraft.locobot.arm_control import LocobotArmControl\n",
    "from geometry_msgs.msg import Pose\n",
    "from tf.transformations import quaternion_from_euler\n",
    "import numpy as np"
   ]
  },
  {
   "cell_type": "code",
   "execution_count": 17,
   "id": "c8f66626",
   "metadata": {},
   "outputs": [
    {
     "name": "stdout",
     "output_type": "stream",
     "text": [
      "env: ROS_MASTER_URI=http://localhost:11311\n",
      "env: ROS_IP=127.0.0.1\n"
     ]
    }
   ],
   "source": [
    "%env ROS_MASTER_URI=http://localhost:11311\n",
    "%env ROS_IP=127.0.0.1"
   ]
  },
  {
   "cell_type": "code",
   "execution_count": 18,
   "id": "faf662d4",
   "metadata": {},
   "outputs": [
    {
     "name": "stdout",
     "output_type": "stream",
     "text": [
      "[INFO] [1745937584.680620, 36.465000]: Waiting for joint trajectory action on /locobot/arm_controller/follow_joint_trajectory…\n",
      "[INFO] [1745937584.682254, 36.467000]: Joint‐space action server ready\n",
      "\u001b[0m[INFO] [1745937584.987849813, 36.775000000]: Ready to take commands for planning group interbotix_arm.\u001b[0m\n",
      "[INFO] [1745937585.182744, 36.970000]: LocobotArmControl initialized\n"
     ]
    }
   ],
   "source": [
    "arm_control = LocobotArmControl()\n"
   ]
  },
  {
   "cell_type": "code",
   "execution_count": 19,
   "id": "0f7eb215",
   "metadata": {},
   "outputs": [
    {
     "data": {
      "text/plain": [
       "True"
      ]
     },
     "execution_count": 19,
     "metadata": {},
     "output_type": "execute_result"
    }
   ],
   "source": [
    "import numpy as np\n",
    "from geometry_msgs.msg import Pose\n",
    "from tf.transformations import quaternion_from_euler\n",
    "\n",
    "# Create target poses\n",
    "target_pose = Pose()\n",
    "target_pose.position.x = 0.3\n",
    "target_pose.position.y = -0.3\n",
    "target_pose.position.z = 0.3\n",
    "\n",
    "# Create a quaternion for (roll=0, pitch=-90°, yaw=0)\n",
    "q = quaternion_from_euler(0, np.pi/2, 0)\n",
    "target_pose.orientation.x = q[0]\n",
    "target_pose.orientation.y = q[1]\n",
    "target_pose.orientation.z = q[2]\n",
    "target_pose.orientation.w = q[3]\n",
    "\n",
    "# Execute the grab sequence\n",
    "# arm_control.move_gripper(0.1)  # Open gripper\n",
    "arm_control.go_to_pose(target_pose)  # Move to approach position\n"
   ]
  },
  {
   "cell_type": "code",
   "execution_count": 24,
   "id": "4543a9aa",
   "metadata": {},
   "outputs": [],
   "source": [
    "import rospy\n",
    "from interbotix_xs_msgs.msg import JointSingleCommand\n",
    "gripper_pub = rospy.Publisher(\n",
    "            \"/locobot/commands/joint_single\",\n",
    "            JointSingleCommand,\n",
    "            queue_size=1\n",
    "        )\n",
    "\n",
    "cmd = JointSingleCommand(name=\"gripper\", cmd=0.0)\n",
    "gripper_pub.publish(cmd)\n"
   ]
  },
  {
   "cell_type": "code",
   "execution_count": 25,
   "id": "3f2e4ad9",
   "metadata": {},
   "outputs": [],
   "source": [
    "import rospy\n",
    "from interbotix_xs_msgs.msg import JointSingleCommand\n",
    "gripper_pub = rospy.Publisher(\n",
    "            \"/locobot/gripper_controller/command\",\n",
    "            JointSingleCommand,\n",
    "            queue_size=1\n",
    "        )\n",
    "\n",
    "cmd = JointSingleCommand(name=\"gripper\", cmd=0.0)\n",
    "gripper_pub.publish(cmd)"
   ]
  },
  {
   "cell_type": "code",
   "execution_count": 34,
   "id": "bdc0a302",
   "metadata": {},
   "outputs": [],
   "source": [
    "width = 2.0\n",
    "duration = 2.0\n",
    "\n",
    "width = max(0.0, min(0.1, width))\n",
    "pos = width / 2.0\n",
    "traj = JointTrajectory()\n",
    "traj.joint_names = ['left_finger', 'right_finger']\n",
    "\n",
    "pt = JointTrajectoryPoint()\n",
    "pt.positions = [pos, -pos]\n",
    "pt.time_from_start = rospy.Duration(duration)\n",
    "traj.points = [pt]\n",
    "traj.header.stamp = rospy.Time.now()\n",
    "\n",
    "gripper_pub = rospy.Publisher(\n",
    "            \"/locobot/gripper_controller/command\",\n",
    "            JointTrajectory,\n",
    "            queue_size=1\n",
    "        )\n",
    "\n",
    "\n",
    "gripper_pub.publish(traj)\n",
    "rospy.sleep(duration + 0.2)"
   ]
  },
  {
   "cell_type": "code",
   "execution_count": 22,
   "id": "b17c5c0f",
   "metadata": {},
   "outputs": [],
   "source": [
    "import rospy\n",
    "from interbotix_xs_msgs.msg import JointSingleCommand\n",
    "from trajectory_msgs.msg import JointTrajectory, JointTrajectoryPoint\n",
    "\n",
    "width = 0.0\n",
    "traj = JointTrajectory()\n",
    "traj.joint_names = ['left_finger']\n",
    "pt = JointTrajectoryPoint()\n",
    "pt.positions = [width]\n",
    "traj.points = [pt]\n",
    "\n",
    "\n",
    "gripper_pub = rospy.Publisher(\n",
    "            \"/locobot/gripper_controller/command\",\n",
    "            JointTrajectory,\n",
    "            queue_size=1\n",
    "        )\n",
    "\n",
    "gripper_pub.publish(traj)\n"
   ]
  },
  {
   "cell_type": "code",
   "execution_count": 5,
   "id": "b2a7ee8e",
   "metadata": {},
   "outputs": [
    {
     "ename": "TypeError",
     "evalue": "expected [string] but got [trajectory_msgs/JointTrajectory]",
     "output_type": "error",
     "traceback": [
      "\u001b[0;31m---------------------------------------------------------------------------\u001b[0m",
      "\u001b[0;31mTypeError\u001b[0m                                 Traceback (most recent call last)",
      "Cell \u001b[0;32mIn[5], line 1\u001b[0m\n\u001b[0;32m----> 1\u001b[0m \u001b[43marm_control\u001b[49m\u001b[38;5;241;43m.\u001b[39;49m\u001b[43mopen_gripper\u001b[49m\u001b[43m(\u001b[49m\u001b[43m)\u001b[49m\n",
      "File \u001b[0;32m~/ros_ws/visioncraft/locobot/arm_control.py:156\u001b[0m, in \u001b[0;36mLocobotArmControl.open_gripper\u001b[0;34m(self)\u001b[0m\n\u001b[1;32m    155\u001b[0m \u001b[38;5;28;01mdef\u001b[39;00m\u001b[38;5;250m \u001b[39m\u001b[38;5;21mopen_gripper\u001b[39m(\u001b[38;5;28mself\u001b[39m):\n\u001b[0;32m--> 156\u001b[0m     \u001b[38;5;28;43mself\u001b[39;49m\u001b[38;5;241;43m.\u001b[39;49m\u001b[43mmove_gripper\u001b[49m\u001b[43m(\u001b[49m\u001b[38;5;241;43m2.0\u001b[39;49m\u001b[43m)\u001b[49m\n",
      "File \u001b[0;32m~/ros_ws/visioncraft/locobot/arm_control.py:153\u001b[0m, in \u001b[0;36mLocobotArmControl.move_gripper\u001b[0;34m(self, width, duration)\u001b[0m\n\u001b[1;32m    150\u001b[0m traj\u001b[38;5;241m.\u001b[39mheader\u001b[38;5;241m.\u001b[39mstamp \u001b[38;5;241m=\u001b[39m rospy\u001b[38;5;241m.\u001b[39mTime\u001b[38;5;241m.\u001b[39mnow()\n\u001b[1;32m    151\u001b[0m \u001b[38;5;28mself\u001b[39m\u001b[38;5;241m.\u001b[39mis_holding \u001b[38;5;241m=\u001b[39m \u001b[38;5;28;01mFalse\u001b[39;00m\n\u001b[0;32m--> 153\u001b[0m \u001b[38;5;28;43mself\u001b[39;49m\u001b[38;5;241;43m.\u001b[39;49m\u001b[43mgripper_pub\u001b[49m\u001b[38;5;241;43m.\u001b[39;49m\u001b[43mpublish\u001b[49m\u001b[43m(\u001b[49m\u001b[43mtraj\u001b[49m\u001b[43m)\u001b[49m\n",
      "File \u001b[0;32m/opt/ros/noetic/lib/python3/dist-packages/rospy/topics.py:879\u001b[0m, in \u001b[0;36mPublisher.publish\u001b[0;34m(self, *args, **kwds)\u001b[0m\n\u001b[1;32m    877\u001b[0m \u001b[38;5;28;01mif\u001b[39;00m \u001b[38;5;129;01mnot\u001b[39;00m is_initialized():\n\u001b[1;32m    878\u001b[0m     \u001b[38;5;28;01mraise\u001b[39;00m ROSException(\u001b[38;5;124m\"\u001b[39m\u001b[38;5;124mROS node has not been initialized yet. Please call init_node() first\u001b[39m\u001b[38;5;124m\"\u001b[39m)\n\u001b[0;32m--> 879\u001b[0m data \u001b[38;5;241m=\u001b[39m \u001b[43margs_kwds_to_message\u001b[49m\u001b[43m(\u001b[49m\u001b[38;5;28;43mself\u001b[39;49m\u001b[38;5;241;43m.\u001b[39;49m\u001b[43mdata_class\u001b[49m\u001b[43m,\u001b[49m\u001b[43m \u001b[49m\u001b[43margs\u001b[49m\u001b[43m,\u001b[49m\u001b[43m \u001b[49m\u001b[43mkwds\u001b[49m\u001b[43m)\u001b[49m\n\u001b[1;32m    880\u001b[0m \u001b[38;5;28;01mtry\u001b[39;00m:\n\u001b[1;32m    881\u001b[0m     \u001b[38;5;28mself\u001b[39m\u001b[38;5;241m.\u001b[39mimpl\u001b[38;5;241m.\u001b[39macquire()\n",
      "File \u001b[0;32m/opt/ros/noetic/lib/python3/dist-packages/rospy/msg.py:121\u001b[0m, in \u001b[0;36margs_kwds_to_message\u001b[0;34m(data_class, args, kwds)\u001b[0m\n\u001b[1;32m    119\u001b[0m             \u001b[38;5;28;01mraise\u001b[39;00m \u001b[38;5;167;01mTypeError\u001b[39;00m(\u001b[38;5;124m\"\u001b[39m\u001b[38;5;124mexpected [] but got [\u001b[39m\u001b[38;5;132;01m%s\u001b[39;00m\u001b[38;5;124m]\u001b[39m\u001b[38;5;124m\"\u001b[39m\u001b[38;5;241m%\u001b[39marg\u001b[38;5;241m.\u001b[39m_type)\n\u001b[1;32m    120\u001b[0m         \u001b[38;5;28;01melif\u001b[39;00m arg\u001b[38;5;241m.\u001b[39m_type \u001b[38;5;241m!=\u001b[39m data_class\u001b[38;5;241m.\u001b[39m_slot_types[\u001b[38;5;241m0\u001b[39m]:\n\u001b[0;32m--> 121\u001b[0m             \u001b[38;5;28;01mraise\u001b[39;00m \u001b[38;5;167;01mTypeError\u001b[39;00m(\u001b[38;5;124m\"\u001b[39m\u001b[38;5;124mexpected [\u001b[39m\u001b[38;5;132;01m%s\u001b[39;00m\u001b[38;5;124m] but got [\u001b[39m\u001b[38;5;132;01m%s\u001b[39;00m\u001b[38;5;124m]\u001b[39m\u001b[38;5;124m\"\u001b[39m\u001b[38;5;241m%\u001b[39m(data_class\u001b[38;5;241m.\u001b[39m_slot_types[\u001b[38;5;241m0\u001b[39m], arg\u001b[38;5;241m.\u001b[39m_type))\n\u001b[1;32m    122\u001b[0m     \u001b[38;5;28;01mreturn\u001b[39;00m data_class(\u001b[38;5;241m*\u001b[39margs)\n\u001b[1;32m    123\u001b[0m \u001b[38;5;28;01melse\u001b[39;00m:\n",
      "\u001b[0;31mTypeError\u001b[0m: expected [string] but got [trajectory_msgs/JointTrajectory]"
     ]
    }
   ],
   "source": [
    "arm_control.open_gripper()"
   ]
  },
  {
   "cell_type": "code",
   "execution_count": 5,
   "id": "7136cc82",
   "metadata": {},
   "outputs": [],
   "source": [
    "cam = LocobotCamera()\n",
    "img = cam.get_image()"
   ]
  },
  {
   "cell_type": "code",
   "execution_count": 7,
   "id": "9ea0e0a6",
   "metadata": {},
   "outputs": [
    {
     "data": {
      "image/png": "[encoded data removed]",
      "text/plain": [
       "<Figure size 640x480 with 1 Axes>"
      ]
     },
     "metadata": {},
     "output_type": "display_data"
    }
   ],
   "source": [
    "import matplotlib.pyplot as plt\n",
    "\n",
    "plt.imshow(img)\n",
    "plt.show()"
   ]
  }
 ],
 "metadata": {
  "kernelspec": {
   "display_name": "Python 3",
   "language": "python",
   "name": "python3"
  },
  "language_info": {
   "codemirror_mode": {
    "name": "ipython",
    "version": 3
   },
   "file_extension": ".py",
   "mimetype": "text/x-python",
   "name": "python",
   "nbconvert_exporter": "python",
   "pygments_lexer": "ipython3",
   "version": "3.8.10"
  }
 },
 "nbformat": 4,
 "nbformat_minor": 5
}
